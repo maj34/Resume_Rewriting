{
 "cells": [
  {
   "cell_type": "markdown",
   "metadata": {},
   "source": [
    "# Data Filtering\n",
    "직무 적합성 점수가 4점 이상인 자기소개서만 추출\n",
    "- 공학 필터링된 데이터 개수: 2607 -> 1202\n",
    "- 사회 필터링된 데이터 개수: 1260 -> 584\n",
    "- 인문 필터링된 데이터 개수: 334 -> 156\n",
    "- 자연 필터링된 데이터 개수: 186 -> 61\n",
    "- 기타 필터링된 데이터 개수: 50 -> 23  \n",
    "- 전체 필터링된 데이터 개수: 4437 -> 2026"
   ]
  },
  {
   "cell_type": "code",
   "execution_count": 2,
   "metadata": {},
   "outputs": [],
   "source": [
    "import json\n",
    "\n",
    "with open(\"data/final_self_introduction_classified_with_score.json\", \"r\") as f:\n",
    "    data = json.load(f)"
   ]
  },
  {
   "cell_type": "code",
   "execution_count": 14,
   "metadata": {},
   "outputs": [
    {
     "data": {
      "text/plain": [
       "dict_keys(['공학', '사회', '인문', '자연', '기타'])"
      ]
     },
     "execution_count": 14,
     "metadata": {},
     "output_type": "execute_result"
    }
   ],
   "source": [
    "data.keys()"
   ]
  },
  {
   "cell_type": "code",
   "execution_count": 16,
   "metadata": {},
   "outputs": [
    {
     "name": "stdout",
     "output_type": "stream",
     "text": [
      "필터링된 데이터 개수: 23\n"
     ]
    }
   ],
   "source": [
    "filtered_data = {}\n",
    "\n",
    "for key, value in data['기타'].items():\n",
    "    scores = value.get('score', {})\n",
    "    # 모든 질문의 '직무 적합성 점수'가 4점 이상인지 확인하기 위한 변수\n",
    "    all_scores_high = True\n",
    "\n",
    "    for question_key, question_value in scores.items():\n",
    "        job_fit_score = question_value.get('직무 적합성 점수', {})\n",
    "        score = job_fit_score.get('점수', 0)\n",
    "        try:\n",
    "            # 점수를 숫자(float)로 변환\n",
    "            score_value = float(score)\n",
    "            # 직무 적합성 점수가 4점 미만인 경우 전체 조건 불충족\n",
    "            if score_value < 4:\n",
    "                all_scores_high = False\n",
    "                break\n",
    "        except (ValueError, TypeError):\n",
    "            # 점수를 숫자로 변환할 수 없으면 해당 항목 제외\n",
    "            all_scores_high = False\n",
    "            break\n",
    "\n",
    "    # 모든 질문에서 직무 적합성 점수가 4점 이상인 경우만 필터링\n",
    "    if all_scores_high and scores:\n",
    "        filtered_data[key] = value\n",
    "\n",
    "# 필터링된 데이터 개수 출력\n",
    "print(f\"필터링된 데이터 개수: {len(filtered_data)}\")"
   ]
  },
  {
   "cell_type": "code",
   "execution_count": null,
   "metadata": {},
   "outputs": [],
   "source": [
    "with open('./data/filtered_data_others.json', 'w', encoding='utf-8') as f:\n",
    "    json.dump(filtered_data, f, indent=4, ensure_ascii=False)"
   ]
  },
  {
   "cell_type": "code",
   "execution_count": null,
   "metadata": {},
   "outputs": [],
   "source": [
    "with open('./data/filtered_data_engineering.json', 'r') as f:\n",
    "    engineering_data = json.load(f)\n",
    "with open('./data/filtered_data_social.json', 'r') as f:\n",
    "    social_data = json.load(f)\n",
    "with open('./data/filtered_data_humanities.json', 'r') as f:\n",
    "    humanities_data = json.load(f)\n",
    "with open('./data/filtered_data_natural.json', 'r') as f:\n",
    "    natural_data = json.load(f)\n",
    "with open('./data/filtered_data_others.json', 'r') as f:\n",
    "    others_data = json.load(f)"
   ]
  },
  {
   "cell_type": "code",
   "execution_count": 6,
   "metadata": {},
   "outputs": [
    {
     "data": {
      "text/plain": [
       "(1202, 584, 156, 61, 23)"
      ]
     },
     "execution_count": 6,
     "metadata": {},
     "output_type": "execute_result"
    }
   ],
   "source": [
    "len(engineering_data), len(social_data), len(humanities_data), len(natural_data), len(others_data)"
   ]
  },
  {
   "cell_type": "code",
   "execution_count": 7,
   "metadata": {},
   "outputs": [],
   "source": [
    "# 5가지 json 파일을 하나로 합치기\n",
    "final_data = {}\n",
    "final_data.update(engineering_data)\n",
    "final_data.update(social_data)\n",
    "final_data.update(humanities_data)\n",
    "final_data.update(natural_data)\n",
    "final_data.update(others_data)"
   ]
  },
  {
   "cell_type": "code",
   "execution_count": null,
   "metadata": {},
   "outputs": [],
   "source": [
    "with open('./data/filtered_data_total.json', 'w', encoding='utf-8') as f:\n",
    "    json.dump(final_data, f, indent=4, ensure_ascii=False)"
   ]
  },
  {
   "cell_type": "markdown",
   "metadata": {},
   "source": [
    "----"
   ]
  }
 ],
 "metadata": {
  "kernelspec": {
   "display_name": "Python 3",
   "language": "python",
   "name": "python3"
  },
  "language_info": {
   "codemirror_mode": {
    "name": "ipython",
    "version": 3
   },
   "file_extension": ".py",
   "mimetype": "text/x-python",
   "name": "python",
   "nbconvert_exporter": "python",
   "pygments_lexer": "ipython3",
   "version": "3.8.10"
  }
 },
 "nbformat": 4,
 "nbformat_minor": 2
}
